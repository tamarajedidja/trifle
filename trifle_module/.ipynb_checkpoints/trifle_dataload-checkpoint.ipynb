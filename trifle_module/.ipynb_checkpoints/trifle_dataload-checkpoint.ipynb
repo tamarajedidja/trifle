{
 "cells": [
  {
   "cell_type": "markdown",
   "metadata": {},
   "source": [
    "#### TRIFLE MODULE FOR LOADING DATA ---------------------------------------\n",
    "Version d.d. 09-01-2024 by TJ de Kloe"
   ]
  },
  {
   "cell_type": "code",
   "execution_count": null,
   "metadata": {},
   "outputs": [],
   "source": [
    "def load_X(Xfilename):\n",
    "    # Load packages\n",
    "    import nibabel as nib\n",
    "    import numpy as np \n",
    "    import sys\n",
    "    import errno\n",
    "    np.seterr(invalid='ignore')\n",
    "    \n",
    "    # Load data \n",
    "    try:\n",
    "        dataImg        = nib.load(Xfilename)\n",
    "        data4d         = dataImg.get_data()\n",
    "        data4d_shape   = data4d.shape\n",
    "        print('The 4d shape of the data is', data4d_shape)\n",
    "    except:\n",
    "        sys.exit('Cannot open ' + infile | '\\nExiting.')\n",
    "    if len(data.shape) != 4:\n",
    "        sys.exit(infile + ' is not a 4D image\\nExiting.')\n",
    "    \n",
    "    # Reshape data to 2D\n",
    "    data2d             = np.reshape(data4d,[np.prod(data4d_shape[0:3]),data4d_shape[3]]) \n",
    "    data2d_shape       = data2d.shape\n",
    "    print('The 2d shape of the data is', data2d_shape) \n",
    "    \n",
    "    return data2d, data2d_shape"
   ]
  },
  {
   "cell_type": "code",
   "execution_count": null,
   "metadata": {},
   "outputs": [],
   "source": [
    "def load_S(Sfilename):\n",
    "    import nibabel as nib\n",
    "    import numpy as np \n",
    "    import sys\n",
    "    import errno\n",
    "    np.seterr(invalid='ignore')\n",
    "    \n",
    "    # Load data \n",
    "    spatialmap4d        = nib.load(Sfilename) # Load data in 4D (x,y,z,t)\n",
    "    spatialmap4d        = spatialmap4d.get_data()\n",
    "    spatialmap4d_shape  = spatialmap4d.shape\n",
    "    print('The 4d shape of S is', spatialmap4d_shape)\n",
    "    \n",
    "    # Reshape data to 2D\n",
    "    spatialmap2d        = np.reshape(spatialmap4d,[np.prod(spatialmap4d_shape[0:3]),spatialmap4d_shape[3]]) # Reshape to 2D (v,t)\n",
    "    spatialmap2d_shape  = spatialmap2d.shape\n",
    "    print('The 2d shape of S is', spatialmap2d_shape) \n",
    "    \n",
    "    return spatialmap2d, spatialmap2d_shape"
   ]
  },
  {
   "cell_type": "code",
   "execution_count": null,
   "metadata": {},
   "outputs": [],
   "source": [
    "def mask(maskfilename, data2d, spatialmap2d):\n",
    "    # Import packages\n",
    "    import nibabel as nib\n",
    "    import numpy as np \n",
    "    \n",
    "    # Mask data \n",
    "    mask3d              = nib.load(maskfile)\n",
    "    mask3d              = mask3d.get_data()\n",
    "    print('The original shape of the mask is', mask3d.shape)\n",
    "    mask                = np.reshape(mask3d, [np.prod(mask3d.shape)])\n",
    "    print('The shape of the reshaped mask is', mask.shape)\n",
    "    brain_voxels        = mask!= 0\n",
    "    print('The amount of brain voxels is', np.sum(brain_voxels))\n",
    "    X                   = data2d[brain_voxels,:]\n",
    "    X_shape             = X.shape\n",
    "    S                   = spatialmap2d[brain_voxels,:] \n",
    "    S_shape             = S.shape\n",
    "    print('The shape of the masked data (X) is', X_shape)\n",
    "    print('The shape of the masked spatial map (S) is', S_shape) \n",
    "    \n",
    "    return brain_voxels, X, X_shape, S, S_shape"
   ]
  },
  {
   "cell_type": "code",
   "execution_count": null,
   "metadata": {},
   "outputs": [],
   "source": [
    "def load_TMB(Tfilename, Mfilename, Bfilename):\n",
    "    # Import packages\n",
    "    import nibabel as nib\n",
    "    import numpy as np \n",
    "    import scipy.stats as ss\n",
    "    \n",
    "    ## Import layer 1 time series and Z-score:\n",
    "    # --------------------------------------------------------------\n",
    "    T                   = np.loadtxt(Tfilename)\n",
    "    Tz                  = ss.zscore(T, axis=0) \n",
    "    print('The shape of T is', T.shape)\n",
    "    \n",
    "    ## LOAD M (Weights, d x k) AND B (tIC, k x t) from layer 2 output (tfmpub folders) and z-score B\n",
    "    # --------------------------------------------------------------\n",
    "    M                   = np.loadtxt(Mfilename) # TFM core mixing matrix\n",
    "    print('The shape of M is', M.shape)\n",
    "    B                   = np.loadtxt(Bfilename) # TFM timeseries\n",
    "    B                   = np.transpose(B)\n",
    "    print('The shape of B is', B.shape)\n",
    "    Bz                  = ss.zscore(B, axis=1)\n",
    "    print('The size of Bz is:', np.shape(Bz))\n",
    "    \n",
    "    return T, Tz, M, B, Bz"
   ]
  }
 ],
 "metadata": {
  "kernelspec": {
   "display_name": "Python 3",
   "language": "python",
   "name": "python3"
  },
  "language_info": {
   "codemirror_mode": {
    "name": "ipython",
    "version": 3
   },
   "file_extension": ".py",
   "mimetype": "text/x-python",
   "name": "python",
   "nbconvert_exporter": "python",
   "pygments_lexer": "ipython3",
   "version": "3.8.3"
  }
 },
 "nbformat": 4,
 "nbformat_minor": 5
}
